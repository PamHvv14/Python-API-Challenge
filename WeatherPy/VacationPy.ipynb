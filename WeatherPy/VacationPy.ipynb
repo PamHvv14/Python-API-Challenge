{
 "cells": [
  {
   "cell_type": "code",
   "execution_count": 1,
   "metadata": {},
   "outputs": [],
   "source": [
    "import matplotlib.pyplot as plt\n",
    "import pandas as pd\n",
    "import numpy as np\n",
    "import requests\n",
    "import gmaps\n",
    "import os\n",
    "import json\n",
    "import time\n",
    "\n",
    "# Import API key\n",
    "from API_keys import g_key"
   ]
  },
  {
   "cell_type": "code",
   "execution_count": 2,
   "metadata": {},
   "outputs": [
    {
     "output_type": "execute_result",
     "data": {
      "text/plain": "                    City    Lat     Lng  Max Temp  Humidity  Cloudiness  \\\n0              Hithadhoo  -0.60   73.08     82.35        77          88   \n1           Constitución -35.33  -72.42     50.09        83          87   \n2               Martaban  16.53   97.61     78.13        93         100   \n3            Yellowknife  62.46 -114.35     50.00        81          75   \n4             Baruun-Urt  46.68  113.28     57.07        70           1   \n..                   ...    ...     ...       ...       ...         ...   \n562                 Bima  -8.47  118.72     86.70        54          10   \n563  Santiago del Estero -27.80  -64.26     64.22        53          80   \n564               Yabēlo   4.88   38.08     58.15        86          66   \n565              Sampang  -7.19  113.24     82.09        72          34   \n566           Antigonish  45.62  -62.00     62.01        84           0   \n\n     Wind Speed Country        Date  \n0         12.95      MV  1599524962  \n1          5.91      CL  1599524962  \n2          4.85      MM  1599524962  \n3         16.11      CA  1599524775  \n4          9.48      MN  1599524963  \n..          ...     ...         ...  \n562        4.21      ID  1599525245  \n563        6.96      AR  1599525074  \n564        6.80      ET  1599525246  \n565        9.10      ID  1599525246  \n566        9.55      CA  1599525247  \n\n[567 rows x 9 columns]",
      "text/html": "<div>\n<style scoped>\n    .dataframe tbody tr th:only-of-type {\n        vertical-align: middle;\n    }\n\n    .dataframe tbody tr th {\n        vertical-align: top;\n    }\n\n    .dataframe thead th {\n        text-align: right;\n    }\n</style>\n<table border=\"1\" class=\"dataframe\">\n  <thead>\n    <tr style=\"text-align: right;\">\n      <th></th>\n      <th>City</th>\n      <th>Lat</th>\n      <th>Lng</th>\n      <th>Max Temp</th>\n      <th>Humidity</th>\n      <th>Cloudiness</th>\n      <th>Wind Speed</th>\n      <th>Country</th>\n      <th>Date</th>\n    </tr>\n  </thead>\n  <tbody>\n    <tr>\n      <th>0</th>\n      <td>Hithadhoo</td>\n      <td>-0.60</td>\n      <td>73.08</td>\n      <td>82.35</td>\n      <td>77</td>\n      <td>88</td>\n      <td>12.95</td>\n      <td>MV</td>\n      <td>1599524962</td>\n    </tr>\n    <tr>\n      <th>1</th>\n      <td>Constitución</td>\n      <td>-35.33</td>\n      <td>-72.42</td>\n      <td>50.09</td>\n      <td>83</td>\n      <td>87</td>\n      <td>5.91</td>\n      <td>CL</td>\n      <td>1599524962</td>\n    </tr>\n    <tr>\n      <th>2</th>\n      <td>Martaban</td>\n      <td>16.53</td>\n      <td>97.61</td>\n      <td>78.13</td>\n      <td>93</td>\n      <td>100</td>\n      <td>4.85</td>\n      <td>MM</td>\n      <td>1599524962</td>\n    </tr>\n    <tr>\n      <th>3</th>\n      <td>Yellowknife</td>\n      <td>62.46</td>\n      <td>-114.35</td>\n      <td>50.00</td>\n      <td>81</td>\n      <td>75</td>\n      <td>16.11</td>\n      <td>CA</td>\n      <td>1599524775</td>\n    </tr>\n    <tr>\n      <th>4</th>\n      <td>Baruun-Urt</td>\n      <td>46.68</td>\n      <td>113.28</td>\n      <td>57.07</td>\n      <td>70</td>\n      <td>1</td>\n      <td>9.48</td>\n      <td>MN</td>\n      <td>1599524963</td>\n    </tr>\n    <tr>\n      <th>...</th>\n      <td>...</td>\n      <td>...</td>\n      <td>...</td>\n      <td>...</td>\n      <td>...</td>\n      <td>...</td>\n      <td>...</td>\n      <td>...</td>\n      <td>...</td>\n    </tr>\n    <tr>\n      <th>562</th>\n      <td>Bima</td>\n      <td>-8.47</td>\n      <td>118.72</td>\n      <td>86.70</td>\n      <td>54</td>\n      <td>10</td>\n      <td>4.21</td>\n      <td>ID</td>\n      <td>1599525245</td>\n    </tr>\n    <tr>\n      <th>563</th>\n      <td>Santiago del Estero</td>\n      <td>-27.80</td>\n      <td>-64.26</td>\n      <td>64.22</td>\n      <td>53</td>\n      <td>80</td>\n      <td>6.96</td>\n      <td>AR</td>\n      <td>1599525074</td>\n    </tr>\n    <tr>\n      <th>564</th>\n      <td>Yabēlo</td>\n      <td>4.88</td>\n      <td>38.08</td>\n      <td>58.15</td>\n      <td>86</td>\n      <td>66</td>\n      <td>6.80</td>\n      <td>ET</td>\n      <td>1599525246</td>\n    </tr>\n    <tr>\n      <th>565</th>\n      <td>Sampang</td>\n      <td>-7.19</td>\n      <td>113.24</td>\n      <td>82.09</td>\n      <td>72</td>\n      <td>34</td>\n      <td>9.10</td>\n      <td>ID</td>\n      <td>1599525246</td>\n    </tr>\n    <tr>\n      <th>566</th>\n      <td>Antigonish</td>\n      <td>45.62</td>\n      <td>-62.00</td>\n      <td>62.01</td>\n      <td>84</td>\n      <td>0</td>\n      <td>9.55</td>\n      <td>CA</td>\n      <td>1599525247</td>\n    </tr>\n  </tbody>\n</table>\n<p>567 rows × 9 columns</p>\n</div>"
     },
     "metadata": {},
     "execution_count": 2
    }
   ],
   "source": [
    "weather_data = pd.read_csv(\"Resources/Homework-06-Python-APIs_output_data_cities.csv\")\n",
    "weather_data"
   ]
  },
  {
   "cell_type": "code",
   "execution_count": 3,
   "metadata": {},
   "outputs": [],
   "source": [
    "#Configure gmaps.\n",
    "#Use the Lat and Lng as locations and Humidity as the weight.\n",
    "#Add Heatmap layer to map.\n",
    "gmaps.configure(api_key=g_key)\n",
    "locations = weather_data[['Lat', 'Lng']]\n",
    "humidity = weather_data['Humidity']"
   ]
  },
  {
   "cell_type": "code",
   "execution_count": 4,
   "metadata": {},
   "outputs": [
    {
     "output_type": "display_data",
     "data": {
      "text/plain": "Figure(layout=FigureLayout(height='420px'))",
      "application/vnd.jupyter.widget-view+json": {
       "version_major": 2,
       "version_minor": 0,
       "model_id": "b78ef06d9f5f42b8bcf7ee25386fd183"
      }
     },
     "metadata": {}
    }
   ],
   "source": [
    "fig = gmaps.figure(center=(46.0, -5.0), zoom_level=2)\n",
    "heat_layer = gmaps.heatmap_layer(locations, weights = humidity, dissipating=False, max_intensity=np.max(humidity), point_radius=3)\n",
    "fig.add_layer(heat_layer)\n",
    "fig"
   ]
  },
  {
   "cell_type": "code",
   "execution_count": 5,
   "metadata": {},
   "outputs": [
    {
     "output_type": "execute_result",
     "data": {
      "text/plain": "                       City    Lat    Lng  Max Temp  Humidity  Cloudiness  \\\n13              Al Bardīyah  31.76  25.09     73.45        71           0   \n29                  Pitimbu  -7.47 -34.81     71.60        88           0   \n60                     Lata  40.16  -8.33     75.99        40           0   \n116                Ajdabiya  30.76  20.23     72.95        49           0   \n124  Santa Maria da Vitória -13.39 -44.19     76.08        39           0   \n\n     Wind Speed Country        Date  \n13         5.64      LY  1599524966  \n29         4.70      BR  1599524972  \n60         1.01      PT  1599524985  \n116        9.60      LY  1599525010  \n124        7.11      BR  1599525015  ",
      "text/html": "<div>\n<style scoped>\n    .dataframe tbody tr th:only-of-type {\n        vertical-align: middle;\n    }\n\n    .dataframe tbody tr th {\n        vertical-align: top;\n    }\n\n    .dataframe thead th {\n        text-align: right;\n    }\n</style>\n<table border=\"1\" class=\"dataframe\">\n  <thead>\n    <tr style=\"text-align: right;\">\n      <th></th>\n      <th>City</th>\n      <th>Lat</th>\n      <th>Lng</th>\n      <th>Max Temp</th>\n      <th>Humidity</th>\n      <th>Cloudiness</th>\n      <th>Wind Speed</th>\n      <th>Country</th>\n      <th>Date</th>\n    </tr>\n  </thead>\n  <tbody>\n    <tr>\n      <th>13</th>\n      <td>Al Bardīyah</td>\n      <td>31.76</td>\n      <td>25.09</td>\n      <td>73.45</td>\n      <td>71</td>\n      <td>0</td>\n      <td>5.64</td>\n      <td>LY</td>\n      <td>1599524966</td>\n    </tr>\n    <tr>\n      <th>29</th>\n      <td>Pitimbu</td>\n      <td>-7.47</td>\n      <td>-34.81</td>\n      <td>71.60</td>\n      <td>88</td>\n      <td>0</td>\n      <td>4.70</td>\n      <td>BR</td>\n      <td>1599524972</td>\n    </tr>\n    <tr>\n      <th>60</th>\n      <td>Lata</td>\n      <td>40.16</td>\n      <td>-8.33</td>\n      <td>75.99</td>\n      <td>40</td>\n      <td>0</td>\n      <td>1.01</td>\n      <td>PT</td>\n      <td>1599524985</td>\n    </tr>\n    <tr>\n      <th>116</th>\n      <td>Ajdabiya</td>\n      <td>30.76</td>\n      <td>20.23</td>\n      <td>72.95</td>\n      <td>49</td>\n      <td>0</td>\n      <td>9.60</td>\n      <td>LY</td>\n      <td>1599525010</td>\n    </tr>\n    <tr>\n      <th>124</th>\n      <td>Santa Maria da Vitória</td>\n      <td>-13.39</td>\n      <td>-44.19</td>\n      <td>76.08</td>\n      <td>39</td>\n      <td>0</td>\n      <td>7.11</td>\n      <td>BR</td>\n      <td>1599525015</td>\n    </tr>\n  </tbody>\n</table>\n</div>"
     },
     "metadata": {},
     "execution_count": 5
    }
   ],
   "source": [
    "#Narrow down the cities to fit weather conditions.\n",
    "#Drop any rows will null values.\n",
    "conditions_df = weather_data.loc[(weather_data['Wind Speed'] < 10) & (weather_data['Cloudiness'] == 0) & (weather_data['Max Temp'] >= 70) & (weather_data['Max Temp'] <= 80)].dropna()\n",
    "\n",
    "conditions_df.head()\n"
   ]
  },
  {
   "cell_type": "code",
   "execution_count": 6,
   "metadata": {},
   "outputs": [
    {
     "output_type": "execute_result",
     "data": {
      "text/plain": "                       City Country    Lat    Lng Hotel Name\n13              Al Bardīyah      LY  31.76  25.09           \n29                  Pitimbu      BR  -7.47 -34.81           \n60                     Lata      PT  40.16  -8.33           \n116                Ajdabiya      LY  30.76  20.23           \n124  Santa Maria da Vitória      BR -13.39 -44.19           ",
      "text/html": "<div>\n<style scoped>\n    .dataframe tbody tr th:only-of-type {\n        vertical-align: middle;\n    }\n\n    .dataframe tbody tr th {\n        vertical-align: top;\n    }\n\n    .dataframe thead th {\n        text-align: right;\n    }\n</style>\n<table border=\"1\" class=\"dataframe\">\n  <thead>\n    <tr style=\"text-align: right;\">\n      <th></th>\n      <th>City</th>\n      <th>Country</th>\n      <th>Lat</th>\n      <th>Lng</th>\n      <th>Hotel Name</th>\n    </tr>\n  </thead>\n  <tbody>\n    <tr>\n      <th>13</th>\n      <td>Al Bardīyah</td>\n      <td>LY</td>\n      <td>31.76</td>\n      <td>25.09</td>\n      <td></td>\n    </tr>\n    <tr>\n      <th>29</th>\n      <td>Pitimbu</td>\n      <td>BR</td>\n      <td>-7.47</td>\n      <td>-34.81</td>\n      <td></td>\n    </tr>\n    <tr>\n      <th>60</th>\n      <td>Lata</td>\n      <td>PT</td>\n      <td>40.16</td>\n      <td>-8.33</td>\n      <td></td>\n    </tr>\n    <tr>\n      <th>116</th>\n      <td>Ajdabiya</td>\n      <td>LY</td>\n      <td>30.76</td>\n      <td>20.23</td>\n      <td></td>\n    </tr>\n    <tr>\n      <th>124</th>\n      <td>Santa Maria da Vitória</td>\n      <td>BR</td>\n      <td>-13.39</td>\n      <td>-44.19</td>\n      <td></td>\n    </tr>\n  </tbody>\n</table>\n</div>"
     },
     "metadata": {},
     "execution_count": 6
    }
   ],
   "source": [
    "#Store into variable named hotel_df.\n",
    "#Add a \"Hotel Name\" column to the DataFrame.\n",
    "#Set parameters to search for hotels with 5000 meters.\n",
    "#Hit the Google Places API for each city's coordinates.\n",
    "#Store the first Hotel result into the DataFrame.\n",
    "#Plot markers on top of the heatmap.\n",
    "\n",
    "\n",
    "hotel_df = conditions_df.loc[:,['City','Country', 'Lat', 'Lng']]\n",
    "hotel_df['Hotel Name'] = ''\n",
    "hotel_df.head()"
   ]
  },
  {
   "cell_type": "code",
   "execution_count": 7,
   "metadata": {},
   "outputs": [],
   "source": [
    "base_url = 'https://maps.googleapis.com/maps/api/place/nearbysearch/json'\n",
    "\n",
    "parameters = {'type': 'hotel','keyword': 'hotel', 'radius': 5000,'key': g_key}"
   ]
  },
  {
   "cell_type": "code",
   "execution_count": 8,
   "metadata": {
    "tags": []
   },
   "outputs": [
    {
     "output_type": "stream",
     "name": "stdout",
     "text": "Retrieving Results for Index 13: Al Bardīyah.\nClosest hotel in Al Bardīyah is Hotel Burdy.\n--------------------------\nRetrieving Results for Index 29: Pitimbu.\nClosest hotel in Pitimbu is Pousada O Nativo.\n--------------------------\nRetrieving Results for Index 60: Lata.\nMissing field/result... skipping.\n--------------------------\nRetrieving Results for Index 116: Ajdabiya.\nClosest hotel in Ajdabiya is Amal Libya Hotel.\n--------------------------\nRetrieving Results for Index 124: Santa Maria da Vitória.\nClosest hotel in Santa Maria da Vitória is Hotel Portal do Corrente.\n--------------------------\nRetrieving Results for Index 187: Porangatu.\nClosest hotel in Porangatu is Lagoa Hotel Porangatu.\n--------------------------\nRetrieving Results for Index 196: Tirat Carmel.\nClosest hotel in Tirat Carmel is מלון קדם Kedem Hotel.\n--------------------------\nRetrieving Results for Index 207: Pimenteiras.\nClosest hotel in Pimenteiras is Posto e Pousada JJ.\n--------------------------\nRetrieving Results for Index 210: San Quintín.\nClosest hotel in San Quintín is Hotel Jardines Baja.\n--------------------------\nRetrieving Results for Index 264: Koulikoro.\nMissing field/result... skipping.\n--------------------------\nRetrieving Results for Index 298: Morros.\nMissing field/result... skipping.\n--------------------------\nRetrieving Results for Index 325: Itacarambi.\nClosest hotel in Itacarambi is Hotel Pão de Açúcar.\n--------------------------\nRetrieving Results for Index 329: Touros.\nClosest hotel in Touros is Casa Imperial Luxo.\n--------------------------\nRetrieving Results for Index 348: Camopi.\nClosest hotel in Camopi is Post Office.\n--------------------------\nRetrieving Results for Index 351: Abu Samrah.\nMissing field/result... skipping.\n--------------------------\nRetrieving Results for Index 433: Jhang.\nMissing field/result... skipping.\n--------------------------\nRetrieving Results for Index 452: Jieshou.\nClosest hotel in Jieshou is GreenTree Inn AnHui Fuyang City Jieshou Railway Station Xinyang East Road Business Hotel.\n--------------------------\nRetrieving Results for Index 459: Fethiye.\nClosest hotel in Fethiye is Dove Apart Hotel.\n--------------------------\nRetrieving Results for Index 467: Kahramanmaraş Province.\nMissing field/result... skipping.\n--------------------------\nRetrieving Results for Index 478: São José da Coroa Grande.\nClosest hotel in São José da Coroa Grande is Pousada Sereias de Maragogi.\n--------------------------\nRetrieving Results for Index 484: Taft.\nClosest hotel in Taft is اقامتگاه بوم گردی ناربن.\n--------------------------\nRetrieving Results for Index 497: Colares.\nClosest hotel in Colares is Penha Longa Resort.\n--------------------------\nRetrieving Results for Index 547: Kikwit.\nClosest hotel in Kikwit is Hotel Oasis Lorra.\n--------------------------\n-------End of Search-------\n"
    }
   ],
   "source": [
    "for index, row in hotel_df.iterrows():\n",
    "    lat = row['Lat']\n",
    "    lng = row['Lng']\n",
    "    city_name = row['City']\n",
    "    \n",
    "    parameters['location'] = f'{lat},{lng}'\n",
    "\n",
    "    print(f'Retrieving Results for Index {index}: {city_name}.')\n",
    "    response = requests.get(base_url, params=parameters).json()\n",
    "    \n",
    "    results = response['results']\n",
    "\n",
    "    try:\n",
    "        print(f\"Closest hotel in {city_name} is {results[0]['name']}.\")\n",
    "        hotel_df.loc[index, 'Hotel Name'] = results[0]['name']\n",
    "\n",
    "    except (KeyError, IndexError):\n",
    "        print('Missing field/result... skipping.')\n",
    "        \n",
    "    print('--------------------------')\n",
    "    time.sleep(1)\n",
    "    \n",
    "print('-------End of Search-------')"
   ]
  },
  {
   "cell_type": "code",
   "execution_count": 9,
   "metadata": {},
   "outputs": [
    {
     "output_type": "execute_result",
     "data": {
      "text/plain": "                       City Country    Lat    Lng                Hotel Name\n13              Al Bardīyah      LY  31.76  25.09               Hotel Burdy\n29                  Pitimbu      BR  -7.47 -34.81          Pousada O Nativo\n60                     Lata      PT  40.16  -8.33                          \n116                Ajdabiya      LY  30.76  20.23          Amal Libya Hotel\n124  Santa Maria da Vitória      BR -13.39 -44.19  Hotel Portal do Corrente",
      "text/html": "<div>\n<style scoped>\n    .dataframe tbody tr th:only-of-type {\n        vertical-align: middle;\n    }\n\n    .dataframe tbody tr th {\n        vertical-align: top;\n    }\n\n    .dataframe thead th {\n        text-align: right;\n    }\n</style>\n<table border=\"1\" class=\"dataframe\">\n  <thead>\n    <tr style=\"text-align: right;\">\n      <th></th>\n      <th>City</th>\n      <th>Country</th>\n      <th>Lat</th>\n      <th>Lng</th>\n      <th>Hotel Name</th>\n    </tr>\n  </thead>\n  <tbody>\n    <tr>\n      <th>13</th>\n      <td>Al Bardīyah</td>\n      <td>LY</td>\n      <td>31.76</td>\n      <td>25.09</td>\n      <td>Hotel Burdy</td>\n    </tr>\n    <tr>\n      <th>29</th>\n      <td>Pitimbu</td>\n      <td>BR</td>\n      <td>-7.47</td>\n      <td>-34.81</td>\n      <td>Pousada O Nativo</td>\n    </tr>\n    <tr>\n      <th>60</th>\n      <td>Lata</td>\n      <td>PT</td>\n      <td>40.16</td>\n      <td>-8.33</td>\n      <td></td>\n    </tr>\n    <tr>\n      <th>116</th>\n      <td>Ajdabiya</td>\n      <td>LY</td>\n      <td>30.76</td>\n      <td>20.23</td>\n      <td>Amal Libya Hotel</td>\n    </tr>\n    <tr>\n      <th>124</th>\n      <td>Santa Maria da Vitória</td>\n      <td>BR</td>\n      <td>-13.39</td>\n      <td>-44.19</td>\n      <td>Hotel Portal do Corrente</td>\n    </tr>\n  </tbody>\n</table>\n</div>"
     },
     "metadata": {},
     "execution_count": 9
    }
   ],
   "source": [
    "hotel_df.head()"
   ]
  },
  {
   "cell_type": "code",
   "execution_count": 10,
   "metadata": {},
   "outputs": [],
   "source": [
    " # NOTE: Do not change any of the code in this cell\n",
    "\n",
    "# Using the template add the hotel marks to the heatmap\n",
    "info_box_template = \"\"\"\n",
    "<dl>\n",
    "<dt>Name</dt><dd>{Hotel Name}</dd>\n",
    "<dt>City</dt><dd>{City}</dd>\n",
    "<dt>Country</dt><dd>{Country}</dd>\n",
    "</dl>\n",
    "\"\"\"\n",
    "# Store the DataFrame Row\n",
    "# NOTE: be sure to update with your DataFrame name\n",
    "hotel_info = [info_box_template.format(**row) for index, row in hotel_df.iterrows()]\n",
    "locations = hotel_df[[\"Lat\", \"Lng\"]]"
   ]
  },
  {
   "cell_type": "code",
   "execution_count": 11,
   "metadata": {},
   "outputs": [
    {
     "output_type": "display_data",
     "data": {
      "text/plain": "Figure(layout=FigureLayout(height='420px'))",
      "application/vnd.jupyter.widget-view+json": {
       "version_major": 2,
       "version_minor": 0,
       "model_id": "b78ef06d9f5f42b8bcf7ee25386fd183"
      }
     },
     "metadata": {}
    }
   ],
   "source": [
    "markers = gmaps.marker_layer(locations, info_box_content = hotel_info)\n",
    "fig.add_layer(markers)\n",
    "fig"
   ]
  },
  {
   "cell_type": "code",
   "execution_count": null,
   "metadata": {},
   "outputs": [],
   "source": []
  }
 ],
 "metadata": {
  "kernelspec": {
   "display_name": "Python 3",
   "language": "python",
   "name": "python3"
  },
  "language_info": {
   "codemirror_mode": {
    "name": "ipython",
    "version": 3
   },
   "file_extension": ".py",
   "mimetype": "text/x-python",
   "name": "python",
   "nbconvert_exporter": "python",
   "pygments_lexer": "ipython3",
   "version": "3.7.6-final"
  }
 },
 "nbformat": 4,
 "nbformat_minor": 2
}